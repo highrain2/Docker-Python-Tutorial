{
 "cells": [
  {
   "cell_type": "markdown",
   "metadata": {},
   "source": [
    "### Middle letter\n",
    "\n",
    "Write a function named mid that takes a string as its parameter. Your function should extract and return the middle letter. If there is no middle letter, your function should return the empty string.\n",
    "\n",
    "For example, mid(\"abc\") should return \"b\" and mid(\"aaaa\") should return \"\""
   ]
  },
  {
   "cell_type": "code",
   "execution_count": 17,
   "metadata": {},
   "outputs": [
    {
     "name": "stdout",
     "output_type": "stream",
     "text": [
      "middle letter of treatis e\n"
     ]
    }
   ],
   "source": [
    "def middleLetter(word):\n",
    "    wordlen = len(word)\n",
    "    if (wordlen%2)==0: #even, return null \n",
    "        print(\"no middle letter\")\n",
    "    else:\n",
    "        midletter = int((wordlen-1)/2)\n",
    "        print('middle letter of ' + word + 'is ' + word[midletter])\n",
    "              \n",
    "middleLetter('treat')"
   ]
  },
  {
   "cell_type": "markdown",
   "metadata": {},
   "source": [
    "### Consecutive zeros\n",
    "The goal of this challenge is to analyze a binary string consisting of only zeros and ones. Your code should find the biggest number of consecutive zeros in the string. For example, given the string:\n",
    "\n",
    "\"1001101000110\"\n",
    "The biggest number of consecutive zeros is 3.\n",
    "\n",
    "Define a function named consecutive_zeros that takes a single parameter, which is the string of zeros and ones. Your function should return the number described above."
   ]
  },
  {
   "cell_type": "code",
   "execution_count": 37,
   "metadata": {},
   "outputs": [
    {
     "name": "stdout",
     "output_type": "stream",
     "text": [
      "max number of zeros is 7\n"
     ]
    }
   ],
   "source": [
    "def consecutive_zeros(num):\n",
    "    counter=0\n",
    "    maxCounter=0\n",
    "    for i in range(len(num)):\n",
    "        if num[i]=='0':\n",
    "            counter = counter+1\n",
    "        elif counter>maxCounter: #found a 1, reset counter\n",
    "            maxCounter=counter\n",
    "            counter=0\n",
    "    print(\"max number of zeros is \" + str(maxCounter))\n",
    "\n",
    "x = \"101110011000111100000001\"\n",
    "#print(x.split())\n",
    "consecutive_zeros(x)"
   ]
  },
  {
   "cell_type": "markdown",
   "metadata": {},
   "source": [
    "### List xor\n",
    "Define a function named list_xor. Your function should take three parameters: n, list1 and list2.\n",
    "\n",
    "Your function must return whether n is exclusively in list1 or list2.\n",
    "\n",
    "In other words, if n is in both lists or in none of the lists, return False. If n is in only one of the lists, return True.\n",
    "\n",
    "For example:\n",
    "\n",
    "list_xor(1, [1, 2, 3], [4, 5, 6]) == True\n",
    "list_xor(1, [0, 2, 3], [1, 5, 6]) == True \n",
    "list_xor(1, [1, 2, 3], [1, 5, 6]) == False \n",
    "list_xor(1, [0, 0, 0], [4, 5, 6]) == False "
   ]
  },
  {
   "cell_type": "code",
   "execution_count": 49,
   "metadata": {},
   "outputs": [
    {
     "name": "stdout",
     "output_type": "stream",
     "text": [
      "True\n"
     ]
    }
   ],
   "source": [
    "def list_xor(n,list1,list2):\n",
    "    if (n in list1) and (n in list2):\n",
    "        return False\n",
    "    elif (n not in list1) and (n not in list2):\n",
    "        return False\n",
    "    elif (n in list1) and (n not in list2):\n",
    "        return True\n",
    "    elif (n not in list1) and (n in list2):\n",
    "        return True\n",
    "\n",
    "\n",
    "print(list_xor(4, [1,2,3],[2,3,4]))\n"
   ]
  },
  {
   "cell_type": "markdown",
   "metadata": {},
   "source": [
    "### Min-maxing\n",
    "Define a function named largest_difference that takes a list of numbers as its only parameter.\n",
    "\n",
    "Your function should compute and return the difference between the largest and smallest number in the list.\n",
    "\n",
    "For example, the call largest_difference([1, 2, 3]) should return 2 because 3 - 1 is 2.\n",
    "\n",
    "You may assume that no numbers are smaller or larger than -100 and 100."
   ]
  },
  {
   "cell_type": "code",
   "execution_count": 51,
   "metadata": {},
   "outputs": [
    {
     "data": {
      "text/plain": [
       "90"
      ]
     },
     "execution_count": 51,
     "metadata": {},
     "output_type": "execute_result"
    }
   ],
   "source": [
    "def largest_difference(mylist):\n",
    "    return max(mylist) - min(mylist)\n",
    "\n",
    "largest_difference([10,20,100])"
   ]
  },
  {
   "cell_type": "markdown",
   "metadata": {},
   "source": [
    "### Counting parameters\n",
    "Define a function param_count that takes a variable number of parameters. The function should return the number of arguments it was called with.\n",
    "\n",
    "For example, param_count() should return 0, while param_count(2, 3, 4) should return 3."
   ]
  },
  {
   "cell_type": "code",
   "execution_count": 58,
   "metadata": {},
   "outputs": [
    {
     "name": "stdout",
     "output_type": "stream",
     "text": [
      "4\n"
     ]
    }
   ],
   "source": [
    "def param_count(*names):\n",
    "    return len(names)\n",
    "\n",
    "print(param_count('1a','2','3','sdsdf'))"
   ]
  },
  {
   "cell_type": "markdown",
   "metadata": {},
   "source": [
    "### Let's Sort This List!\n",
    "Create a function that takes a list of numbers lst, a string s and return a list of numbers as per the following rules:\n",
    "\n",
    "\"Asc\" returns a sorted list in ascending order.\n",
    "\"Des\" returns a sorted list in descending order.\n",
    "\"None\" returns a list without any modification."
   ]
  },
  {
   "cell_type": "code",
   "execution_count": 67,
   "metadata": {},
   "outputs": [
    {
     "name": "stdout",
     "output_type": "stream",
     "text": [
      "op not found: Non!\n",
      "None\n"
     ]
    }
   ],
   "source": [
    "def mySort(myList, op):\n",
    "    if op=='Asc':\n",
    "        myList.sort()\n",
    "        return myList\n",
    "    elif op=='Des':\n",
    "        myList.sort(reverse=True)\n",
    "        return myList\n",
    "    elif op=='None':\n",
    "        return myList\n",
    "    else:\n",
    "        print('op not found: ' + op)\n",
    "     \n",
    "print(mySort([3,4,2],'Non!'))"
   ]
  },
  {
   "cell_type": "markdown",
   "metadata": {},
   "source": [
    "### Virtual DAC\n",
    "In electronics, a digital-to-analog converter (DAC, D/A, or D-to-A) is a system that converts a binary representation of that signal into an analog output. An 8 bit converter can represent a maximum of 2^8 different values, with each successive value differing by 1/256 of the full scale value, this becomes the system resolution.\n",
    "\n",
    "Create a function that takes a decimal number representation of a signal and returns the analog voltage level that would be created by a DAC if it were given the same number in binary.\n",
    "\n",
    "While value range is 0-1023, reference range is 0-5.00 volts. Value and reference is directly proportional.\n",
    "\n",
    "This DAC has 10 bits of resolution and the DAC reference is set at 5.00 volts."
   ]
  },
  {
   "cell_type": "code",
   "execution_count": 76,
   "metadata": {},
   "outputs": [
    {
     "name": "stdout",
     "output_type": "stream",
     "text": [
      "1.96\n"
     ]
    }
   ],
   "source": [
    "def DAC(x):\n",
    "    return round((5/1023)*x,2)\n",
    "\n",
    "\n",
    "x=400\n",
    "print(DAC(x))"
   ]
  },
  {
   "cell_type": "markdown",
   "metadata": {},
   "source": [
    "### Right Shift by Division\n",
    "The right shift operation is similar to floor division by powers of two.\n",
    "\n",
    "Sample calculation using the right shift operator ( >> ):\n",
    "\n",
    "80 >> 3 = floor(80/2^3) = floor(80/8) = 10\n",
    "-24 >> 2 = floor(-24/2^2) = floor(-24/4) = -6\n",
    "-5 >> 1 = floor(-5/2^1) = floor(-5/2) = -3\n",
    "Write a function that mimics (without the use of >>) the right shift operator and returns the result from the two given integers."
   ]
  },
  {
   "cell_type": "code",
   "execution_count": 84,
   "metadata": {},
   "outputs": [
    {
     "name": "stdout",
     "output_type": "stream",
     "text": [
      "72\n"
     ]
    }
   ],
   "source": [
    "import math\n",
    "def rightShiftDiv(num,twoPow):\n",
    "    result = math.floor(num/2**twoPow)\n",
    "    return result\n",
    "\n",
    "print(rightShiftDiv(4666,6))"
   ]
  },
  {
   "cell_type": "markdown",
   "metadata": {},
   "source": [
    "### Length of a number\n",
    "Create a function that takes a number num and returns its length"
   ]
  },
  {
   "cell_type": "code",
   "execution_count": 86,
   "metadata": {},
   "outputs": [
    {
     "data": {
      "text/plain": [
       "5"
      ]
     },
     "execution_count": 86,
     "metadata": {},
     "output_type": "execute_result"
    }
   ],
   "source": [
    "def numLen(x):\n",
    "    return len(str(x))\n",
    "\n",
    "numLen(50000)"
   ]
  },
  {
   "cell_type": "markdown",
   "metadata": {},
   "source": [
    "### A Circle and 2 Squares\n",
    "Imagine a circle and two squares: a smaller and a bigger one. For the smaller one, the circle is a circumcircle and for the bigger one, an incircle.\n",
    "\n",
    "Create a function, that takes an integer (radius of the circle) and returns the difference of the areas of the two squares."
   ]
  },
  {
   "cell_type": "code",
   "execution_count": 91,
   "metadata": {},
   "outputs": [
    {
     "data": {
      "text/plain": [
       "98"
      ]
     },
     "execution_count": 91,
     "metadata": {},
     "output_type": "execute_result"
    }
   ],
   "source": [
    "import math\n",
    "def square_areas_difference(r):\n",
    "    #inner square length is the hypotenuse whose 2 other sides are the radius in length\n",
    "    sq1len = math.sqrt(2*r**2)\n",
    "    sq1Area = sq1len**2\n",
    "\n",
    "    #outer square length is the diameter\n",
    "    sq2len = 2*r\n",
    "    sq2Area = sq2len**2\n",
    "    return round(sq2Area - sq1Area)\n",
    "\n",
    "square_areas_difference(7)"
   ]
  },
  {
   "cell_type": "markdown",
   "metadata": {},
   "source": [
    "### Basic Arithmetic Operations on a String Number\n",
    "Create a function to perform basic arithmetic operations that includes addition, subtraction, multiplication and division on a string number (e.g. \"12 + 24\" or \"23 - 21\" or \"12 // 12\" or \"12 * 21\").\n",
    "\n",
    "Here, we have 1 followed by a space, operator followed by another space and 2. For the challenge, we are going to have only two numbers between 1 valid operator. The return value should be a number.\n",
    "\n",
    "eval() is not allowed. In case of division, whenever the second number equals \"0\" return -1.\n",
    "\n",
    "For example:\n",
    "\n",
    "\"15 // 0\"  ➞ -1"
   ]
  },
  {
   "cell_type": "code",
   "execution_count": 110,
   "metadata": {},
   "outputs": [
    {
     "name": "stdout",
     "output_type": "stream",
     "text": [
      "1.0\n"
     ]
    }
   ],
   "source": [
    "def strCalc(x):\n",
    "    xList = str.split(x,' ')\n",
    "    if '+' in xList:\n",
    "        return int(xList[0]) + int(xList[2])\n",
    "    elif '-' in xList:\n",
    "        return int(xList[0]) - int(xList[2])\n",
    "    elif '*' in xList:\n",
    "        return int(xList[0]) * int(xList[2])\n",
    "    elif '//' in xList:\n",
    "        if xList[2]==0:\n",
    "            return -1\n",
    "        else:\n",
    "            return float(xList[0]) // float(xList[2])\n",
    "\n",
    "\n",
    "print(strCalc('26 // 25'))"
   ]
  },
  {
   "cell_type": "markdown",
   "metadata": {},
   "source": [
    "### Calculated Bonus\n",
    "\n",
    "https://edabit.com/challenge/ksiA6Q34iXgTcMeZF\n",
    "\n",
    "A financial institution provides professional services to banks and claims charges from the customers based on the number of man-days provided. Internally, it has set a scheme to motivate and reward staff to meet and exceed targeted billable utilization and revenues by paying a bonus for each day claimed from customers in excess of a threshold target.\n",
    "\n",
    "This quarterly scheme is calculated with a threshold target of 32 days per quarter, and the incentive payment for each billable day in excess of such threshold target is shown as follows:\n",
    "\n",
    "Days\tBonus\n",
    "0 to 32 days\tZero\n",
    "33 to 40 days\tSGD$325 per billable day\n",
    "41 to 48 days\tSGD$550 per billable day\n",
    "Greater than 48 days\tSGD$600 per billable day\n",
    "\n",
    "Please note that incentive payment is calculated progressively. As an example, if an employee reached total billable days of 45 in a quarter, his/her incentive payment is computed as follows:\n",
    "\n",
    "32*0 + 8*325 + 5*550 = 5350\n",
    "Write a function to read the billable days of an employee and return the bonus he/she has obtained in that quarter.\n"
   ]
  },
  {
   "cell_type": "code",
   "execution_count": 114,
   "metadata": {},
   "outputs": [
    {
     "name": "stdout",
     "output_type": "stream",
     "text": [
      "1625\n"
     ]
    }
   ],
   "source": [
    "def calcBonus(numDays):\n",
    "    if numDays>48:\n",
    "        Bonus = 325*(40-32) + 550*(48-40) + 600*(numDays-48)\n",
    "    elif numDays>40 and numDays<48:\n",
    "        Bonus = 325*(40-32) + 550*(numDays-40)\n",
    "    elif numDays>32 and numDays<40:\n",
    "        Bonus = 325*(numDays-32)\n",
    "    return Bonus\n",
    "\n",
    "print(calcBonus(37))"
   ]
  },
  {
   "cell_type": "code",
   "execution_count": null,
   "metadata": {},
   "outputs": [],
   "source": [
    "#13 Jan 2025   test"
   ]
  }
 ],
 "metadata": {
  "kernelspec": {
   "display_name": "DSS420_AnacondaEnv",
   "language": "python",
   "name": "python3"
  },
  "language_info": {
   "codemirror_mode": {
    "name": "ipython",
    "version": 3
   },
   "file_extension": ".py",
   "mimetype": "text/x-python",
   "name": "python",
   "nbconvert_exporter": "python",
   "pygments_lexer": "ipython3",
   "version": "3.9.13"
  }
 },
 "nbformat": 4,
 "nbformat_minor": 2
}
